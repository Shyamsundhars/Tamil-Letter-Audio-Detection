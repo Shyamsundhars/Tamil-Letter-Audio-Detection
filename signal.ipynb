{
 "cells": [
  {
   "cell_type": "code",
   "execution_count": 18,
   "id": "bd3d3988-c39d-45e6-aaac-9dbec31d50e5",
   "metadata": {},
   "outputs": [
    {
     "name": "stdout",
     "output_type": "stream",
     "text": [
      "Validation Accuracy: 87.69%\n"
     ]
    },
    {
     "data": {
      "text/plain": [
       "['uyir_letters_ml_model.pkl']"
      ]
     },
     "execution_count": 18,
     "metadata": {},
     "output_type": "execute_result"
    }
   ],
   "source": [
    "import numpy as np\n",
    "import librosa\n",
    "import os\n",
    "import sounddevice as sd\n",
    "import scipy.io.wavfile as wav\n",
    "from sklearn.model_selection import train_test_split\n",
    "from sklearn.ensemble import RandomForestClassifier\n",
    "from sklearn.metrics import accuracy_score\n",
    "from tensorflow.keras.utils import to_categorical\n",
    "\n",
    "# Tamil Uyir letters\n",
    "uyir_letters = ['அ', 'ஆ', 'இ', 'ஈ', 'உ', 'ஊ', 'எ', 'ஏ', 'ஐ', 'ஒ', 'ஓ', 'ஔ']\n",
    "\n",
    "# Function to extract features from an audio file\n",
    "def extract_features(file_path, max_pad_len=174):\n",
    "    audio, sample_rate = librosa.load(file_path, res_type='kaiser_fast') \n",
    "    mfccs = librosa.feature.mfcc(y=audio, sr=sample_rate, n_mfcc=40)\n",
    "    pad_width = max_pad_len - mfccs.shape[1]\n",
    "    if pad_width > 0:\n",
    "        mfccs = np.pad(mfccs, pad_width=((0, 0), (0, pad_width)), mode='constant')\n",
    "    else:\n",
    "        mfccs = mfccs[:, :max_pad_len]\n",
    "    return mfccs\n",
    "\n",
    "# Function to load dataset\n",
    "def load_dataset(dataset_path):\n",
    "    features = []\n",
    "    labels = []\n",
    "    \n",
    "    for letter in uyir_letters:\n",
    "        letter_folder = os.path.join(dataset_path, letter)\n",
    "        for file_name in os.listdir(letter_folder):\n",
    "            if file_name.endswith('.wav'):\n",
    "                file_path = os.path.join(letter_folder, file_name)\n",
    "                mfccs = extract_features(file_path)\n",
    "                features.append(mfccs)\n",
    "                labels.append(uyir_letters.index(letter))\n",
    "\n",
    "    features = np.array(features)\n",
    "    labels = np.array(labels)\n",
    "    return features, labels\n",
    "\n",
    "# Function to train the ML model (Random Forest)\n",
    "def train_ml_model(X_train, y_train):\n",
    "    model = RandomForestClassifier(n_estimators=100, random_state=42)\n",
    "    model.fit(X_train, y_train)\n",
    "    return model\n",
    "\n",
    "# Function to record a voice and save as wav\n",
    "def record_voice(filename, duration=3, fs=16000):\n",
    "    print(\"Recording...\")\n",
    "    recording = sd.rec(int(duration * fs), samplerate=fs, channels=1)\n",
    "    sd.wait()  # Wait until the recording is finished\n",
    "    wav.write(filename, fs, recording)\n",
    "    print(\"Recording finished\")\n",
    "\n",
    "# Function to recognize Tamil Uyir letter from recorded voice\n",
    "def recognize_uyir_letter(model, filename):\n",
    "    mfccs = extract_features(filename)\n",
    "    mfccs = np.expand_dims(mfccs, axis=0)  # Add batch dimension\n",
    "    mfccs = mfccs.reshape(1, -1)  # Flatten to match model input shape\n",
    "    prediction = model.predict(mfccs)\n",
    "    return uyir_letters[prediction[0]]\n",
    "\n",
    "# Main execution\n",
    "dataset_path = \"./audio_dataset\"\n",
    "X, y = load_dataset(dataset_path)\n",
    "\n",
    "# Reshape X for use with ML models (flatten the MFCC features)\n",
    "X_reshaped = X.reshape(X.shape[0], -1)\n",
    "\n",
    "# Train-test split\n",
    "X_train, X_val, y_train, y_val = train_test_split(X_reshaped, y, test_size=0.2, random_state=42)\n",
    "\n",
    "# Train the Random Forest model\n",
    "model = train_ml_model(X_train, y_train)\n",
    "\n",
    "# Evaluate the model on validation data\n",
    "y_pred = model.predict(X_val)\n",
    "accuracy = accuracy_score(y_val, y_pred)\n",
    "print(f\"Validation Accuracy: {accuracy * 100:.2f}%\")\n",
    "\n",
    "# Save the model for later use\n",
    "import joblib\n",
    "joblib.dump(model, 'uyir_letters_ml_model.pkl')"
   ]
  },
  {
   "cell_type": "code",
   "execution_count": 54,
   "id": "192396a9-9ce0-49ae-b453-6d7caca3ad88",
   "metadata": {},
   "outputs": [
    {
     "name": "stdout",
     "output_type": "stream",
     "text": [
      "Recording...\n",
      "Recording finished\n",
      "Recognized Tamil Uyir letter: ஏ\n"
     ]
    }
   ],
   "source": [
    "# Record and predict\n",
    "voice_filename = 'recorded_voice.wav'\n",
    "record_voice(voice_filename, duration=3)\n",
    "recognized_letter = recognize_uyir_letter(model, voice_filename)\n",
    "\n",
    "print(f\"Recognized Tamil Uyir letter: {recognized_letter}\")"
   ]
  }
 ],
 "metadata": {
  "kernelspec": {
   "display_name": "Python 3 (ipykernel)",
   "language": "python",
   "name": "python3"
  },
  "language_info": {
   "codemirror_mode": {
    "name": "ipython",
    "version": 3
   },
   "file_extension": ".py",
   "mimetype": "text/x-python",
   "name": "python",
   "nbconvert_exporter": "python",
   "pygments_lexer": "ipython3",
   "version": "3.11.9"
  }
 },
 "nbformat": 4,
 "nbformat_minor": 5
}
