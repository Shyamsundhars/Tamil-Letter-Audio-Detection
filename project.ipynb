{
 "cells": [
  {
   "cell_type": "code",
   "execution_count": 1,
   "id": "22b68c91-7e1b-4994-b11d-102e28fb0edc",
   "metadata": {},
   "outputs": [
    {
     "name": "stderr",
     "output_type": "stream",
     "text": [
      "\n",
      "[notice] A new release of pip is available: 24.2 -> 24.3.1\n",
      "[notice] To update, run: C:\\Users\\Shyamsundhar\\AppData\\Local\\Microsoft\\WindowsApps\\PythonSoftwareFoundation.Python.3.11_qbz5n2kfra8p0\\python.exe -m pip install --upgrade pip\n"
     ]
    },
    {
     "name": "stdout",
     "output_type": "stream",
     "text": [
      "Requirement already satisfied: resampy in c:\\users\\shyamsundhar\\appdata\\local\\packages\\pythonsoftwarefoundation.python.3.11_qbz5n2kfra8p0\\localcache\\local-packages\\python311\\site-packages (0.4.3)\n",
      "Requirement already satisfied: numpy>=1.17 in c:\\users\\shyamsundhar\\appdata\\local\\packages\\pythonsoftwarefoundation.python.3.11_qbz5n2kfra8p0\\localcache\\local-packages\\python311\\site-packages (from resampy) (1.26.4)\n",
      "Requirement already satisfied: numba>=0.53 in c:\\users\\shyamsundhar\\appdata\\local\\packages\\pythonsoftwarefoundation.python.3.11_qbz5n2kfra8p0\\localcache\\local-packages\\python311\\site-packages (from resampy) (0.60.0)\n",
      "Requirement already satisfied: llvmlite<0.44,>=0.43.0dev0 in c:\\users\\shyamsundhar\\appdata\\local\\packages\\pythonsoftwarefoundation.python.3.11_qbz5n2kfra8p0\\localcache\\local-packages\\python311\\site-packages (from numba>=0.53->resampy) (0.43.0)\n"
     ]
    }
   ],
   "source": [
    "!pip install resampy"
   ]
  },
  {
   "cell_type": "code",
   "execution_count": 22,
   "id": "0ed4e701-75a4-4d50-be51-65ae7eee3882",
   "metadata": {},
   "outputs": [
    {
     "name": "stdout",
     "output_type": "stream",
     "text": [
      "Epoch 1/50\n",
      "\u001b[1m17/17\u001b[0m \u001b[32m━━━━━━━━━━━━━━━━━━━━\u001b[0m\u001b[37m\u001b[0m \u001b[1m2s\u001b[0m 29ms/step - accuracy: 0.1239 - loss: 142.4839 - val_accuracy: 0.1231 - val_loss: 19.2155\n",
      "Epoch 2/50\n",
      "\u001b[1m17/17\u001b[0m \u001b[32m━━━━━━━━━━━━━━━━━━━━\u001b[0m\u001b[37m\u001b[0m \u001b[1m1s\u001b[0m 21ms/step - accuracy: 0.1228 - loss: 33.9660 - val_accuracy: 0.1231 - val_loss: 3.2170\n",
      "Epoch 3/50\n",
      "\u001b[1m17/17\u001b[0m \u001b[32m━━━━━━━━━━━━━━━━━━━━\u001b[0m\u001b[37m\u001b[0m \u001b[1m1s\u001b[0m 34ms/step - accuracy: 0.0814 - loss: 4.4861 - val_accuracy: 0.0923 - val_loss: 3.4731\n",
      "Epoch 4/50\n",
      "\u001b[1m17/17\u001b[0m \u001b[32m━━━━━━━━━━━━━━━━━━━━\u001b[0m\u001b[37m\u001b[0m \u001b[1m1s\u001b[0m 35ms/step - accuracy: 0.0935 - loss: 4.3389 - val_accuracy: 0.1385 - val_loss: 2.5253\n",
      "Epoch 5/50\n",
      "\u001b[1m17/17\u001b[0m \u001b[32m━━━━━━━━━━━━━━━━━━━━\u001b[0m\u001b[37m\u001b[0m \u001b[1m1s\u001b[0m 35ms/step - accuracy: 0.0810 - loss: 2.9375 - val_accuracy: 0.1154 - val_loss: 2.9272\n",
      "Epoch 6/50\n",
      "\u001b[1m17/17\u001b[0m \u001b[32m━━━━━━━━━━━━━━━━━━━━\u001b[0m\u001b[37m\u001b[0m \u001b[1m1s\u001b[0m 35ms/step - accuracy: 0.0855 - loss: 3.0236 - val_accuracy: 0.1308 - val_loss: 2.3938\n",
      "Epoch 7/50\n",
      "\u001b[1m17/17\u001b[0m \u001b[32m━━━━━━━━━━━━━━━━━━━━\u001b[0m\u001b[37m\u001b[0m \u001b[1m1s\u001b[0m 34ms/step - accuracy: 0.1042 - loss: 2.7631 - val_accuracy: 0.1231 - val_loss: 2.4206\n",
      "Epoch 8/50\n",
      "\u001b[1m17/17\u001b[0m \u001b[32m━━━━━━━━━━━━━━━━━━━━\u001b[0m\u001b[37m\u001b[0m \u001b[1m1s\u001b[0m 34ms/step - accuracy: 0.0857 - loss: 2.4926 - val_accuracy: 0.1154 - val_loss: 2.4369\n",
      "Epoch 9/50\n",
      "\u001b[1m17/17\u001b[0m \u001b[32m━━━━━━━━━━━━━━━━━━━━\u001b[0m\u001b[37m\u001b[0m \u001b[1m1s\u001b[0m 31ms/step - accuracy: 0.0957 - loss: 2.9097 - val_accuracy: 0.0923 - val_loss: 2.4793\n",
      "Epoch 10/50\n",
      "\u001b[1m17/17\u001b[0m \u001b[32m━━━━━━━━━━━━━━━━━━━━\u001b[0m\u001b[37m\u001b[0m \u001b[1m1s\u001b[0m 31ms/step - accuracy: 0.0729 - loss: 2.5640 - val_accuracy: 0.0846 - val_loss: 2.4969\n",
      "Epoch 11/50\n",
      "\u001b[1m17/17\u001b[0m \u001b[32m━━━━━━━━━━━━━━━━━━━━\u001b[0m\u001b[37m\u001b[0m \u001b[1m1s\u001b[0m 33ms/step - accuracy: 0.1246 - loss: 2.5009 - val_accuracy: 0.0538 - val_loss: 2.4971\n"
     ]
    },
    {
     "name": "stderr",
     "output_type": "stream",
     "text": [
      "WARNING:absl:You are saving your model as an HDF5 file via `model.save()` or `keras.saving.save_model(model)`. This file format is considered legacy. We recommend using instead the native Keras format, e.g. `model.save('my_model.keras')` or `keras.saving.save_model(model, 'my_model.keras')`. \n"
     ]
    }
   ],
   "source": [
    "import numpy as np\n",
    "import librosa\n",
    "import os\n",
    "import sounddevice as sd\n",
    "import scipy.io.wavfile as wav\n",
    "from sklearn.model_selection import train_test_split\n",
    "from tensorflow.keras.models import Sequential\n",
    "from tensorflow.keras.layers import Dense, Dropout\n",
    "from tensorflow.keras.utils import to_categorical\n",
    "from tensorflow.keras.callbacks import EarlyStopping\n",
    "\n",
    "# Tamil Uyir letters\n",
    "uyir_letters = ['அ', 'ஆ', 'இ', 'ஈ', 'உ', 'ஊ', 'எ', 'ஏ', 'ஐ', 'ஒ', 'ஓ', 'ஔ']\n",
    "\n",
    "# Function to extract features from an audio file\n",
    "def extract_features(file_path, max_pad_len=174):\n",
    "    audio, sample_rate = librosa.load(file_path, res_type='kaiser_fast') \n",
    "    mfccs = librosa.feature.mfcc(y=audio, sr=sample_rate, n_mfcc=40)\n",
    "    pad_width = max_pad_len - mfccs.shape[1]\n",
    "    if pad_width > 0:\n",
    "        mfccs = np.pad(mfccs, pad_width=((0, 0), (0, pad_width)), mode='constant')\n",
    "    else:\n",
    "        mfccs = mfccs[:, :max_pad_len]\n",
    "    return mfccs\n",
    "\n",
    "# Function to load dataset\n",
    "def load_dataset(dataset_path):\n",
    "    features = []\n",
    "    labels = []\n",
    "    \n",
    "    for letter in uyir_letters:\n",
    "        letter_folder = os.path.join(dataset_path, letter)\n",
    "        for file_name in os.listdir(letter_folder):\n",
    "            if file_name.endswith('.wav'):\n",
    "                file_path = os.path.join(letter_folder, file_name)\n",
    "                mfccs = extract_features(file_path)\n",
    "                features.append(mfccs)\n",
    "                labels.append(uyir_letters.index(letter))\n",
    "\n",
    "    features = np.array(features)\n",
    "    labels = np.array(labels)\n",
    "    labels = to_categorical(labels, num_classes=len(uyir_letters))\n",
    "    \n",
    "    return features, labels\n",
    "\n",
    "# Function to create the neural network\n",
    "def create_model(input_shape, num_classes):\n",
    "    model = Sequential()\n",
    "    model.add(Dense(256, input_shape=input_shape, activation='relu'))\n",
    "    model.add(Dropout(0.5))\n",
    "    model.add(Dense(128, activation='relu'))\n",
    "    model.add(Dropout(0.5))\n",
    "    model.add(Dense(num_classes, activation='softmax'))\n",
    "    \n",
    "    model.compile(loss='categorical_crossentropy', optimizer='adam', metrics=['accuracy'])\n",
    "    \n",
    "    return model\n",
    "\n",
    "# Function to train the model\n",
    "def train_model(model, X_train, y_train, X_val, y_val, epochs=50, batch_size=32):\n",
    "    early_stopping = EarlyStopping(monitor='val_loss', patience=5, restore_best_weights=True)\n",
    "    history = model.fit(X_train, y_train, validation_data=(X_val, y_val), \n",
    "                        epochs=epochs, batch_size=batch_size, callbacks=[early_stopping])\n",
    "    return model\n",
    "\n",
    "# Function to record a voice and save as wav\n",
    "def record_voice(filename, duration=3, fs=16000):\n",
    "    print(\"Recording...\")\n",
    "    recording = sd.rec(int(duration * fs), samplerate=fs, channels=1)\n",
    "    sd.wait()  # Wait until the recording is finished\n",
    "    wav.write(filename, fs, recording)\n",
    "    print(\"Recording finished\")\n",
    "\n",
    "# Function to recognize Tamil Uyir letter from recorded voice\n",
    "def recognize_uyir_letter(model, filename):\n",
    "    mfccs = extract_features(filename)\n",
    "    mfccs = np.expand_dims(mfccs, axis=0)  # Add batch dimension\n",
    "    mfccs = mfccs.reshape(1, -1)  # Flatten to match model input shape\n",
    "    prediction = model.predict(mfccs)\n",
    "    predicted_letter_index = np.argmax(prediction)\n",
    "    return uyir_letters[predicted_letter_index]\n",
    "\n",
    "\n",
    "# Main execution\n",
    "file_path = \"./audio_dataset\"\n",
    "dataset_path = \"./audio_dataset\"\n",
    "X, y = load_dataset(dataset_path)\n",
    "X_train, X_val, y_train, y_val = train_test_split(X, y, test_size=0.2, random_state=42)\n",
    "\n",
    "# Reshape X_train and X_val to fit the input for Dense layers\n",
    "X_train = X_train.reshape(X_train.shape[0], X_train.shape[1] * X_train.shape[2])\n",
    "X_val = X_val.reshape(X_val.shape[0], X_val.shape[1] * X_val.shape[2])\n",
    "\n",
    "input_shape = (X_train.shape[1],)\n",
    "model = create_model(input_shape, len(uyir_letters))\n",
    "\n",
    "# Train the model\n",
    "model = train_model(model, X_train, y_train, X_val, y_val)\n",
    "# After training the model\n",
    "model.save('uyir_letters_model.h5')  # Save the model to a file\n",
    "\n",
    "# Record a voice and recognize\n",
    "#voice_filename = 'recorded_voice.wav'\n",
    "#record_voice(voice_filename, duration=3)\n",
    "#recognized_letter = recognize_uyir_letter(model, voice_filename)\n",
    "\n",
    "#print(f\"Recognized Tamil Uyir letter: {recognized_letter}\")\n"
   ]
  },
  {
   "cell_type": "code",
   "execution_count": 27,
   "id": "ce7d6686-920d-49a0-92af-1bc6596efc4d",
   "metadata": {},
   "outputs": [
    {
     "name": "stderr",
     "output_type": "stream",
     "text": [
      "WARNING:absl:Compiled the loaded model, but the compiled metrics have yet to be built. `model.compile_metrics` will be empty until you train or evaluate the model.\n"
     ]
    },
    {
     "name": "stdout",
     "output_type": "stream",
     "text": [
      "Recording...\n",
      "Recording finished\n",
      "\u001b[1m1/1\u001b[0m \u001b[32m━━━━━━━━━━━━━━━━━━━━\u001b[0m\u001b[37m\u001b[0m \u001b[1m0s\u001b[0m 65ms/step\n",
      "Recognized Tamil Uyir letter: அ\n"
     ]
    }
   ],
   "source": [
    "from keras.models import load_model\n",
    "\n",
    "# Load the saved model\n",
    "model = load_model('uyir_letters_model.h5')\n",
    "\n",
    "# Record and predict\n",
    "voice_filename = 'recorded_voice.wav'\n",
    "record_voice(voice_filename, duration=3)\n",
    "recognized_letter = recognize_uyir_letter(model, voice_filename)\n",
    "\n",
    "print(f\"Recognized Tamil Uyir letter: {recognized_letter}\")\n"
   ]
  },
  {
   "cell_type": "code",
   "execution_count": null,
   "id": "69631e69-450a-4b7f-b9dc-9e870f9d6e95",
   "metadata": {},
   "outputs": [],
   "source": []
  },
  {
   "cell_type": "code",
   "execution_count": null,
   "id": "8d00a286-5384-4c2f-a931-de39ecb8020d",
   "metadata": {},
   "outputs": [],
   "source": []
  }
 ],
 "metadata": {
  "kernelspec": {
   "display_name": "Python 3 (ipykernel)",
   "language": "python",
   "name": "python3"
  },
  "language_info": {
   "codemirror_mode": {
    "name": "ipython",
    "version": 3
   },
   "file_extension": ".py",
   "mimetype": "text/x-python",
   "name": "python",
   "nbconvert_exporter": "python",
   "pygments_lexer": "ipython3",
   "version": "3.11.9"
  }
 },
 "nbformat": 4,
 "nbformat_minor": 5
}
